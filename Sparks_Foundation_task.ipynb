{
  "nbformat": 4,
  "nbformat_minor": 0,
  "metadata": {
    "kernelspec": {
      "display_name": "Python 3",
      "language": "python",
      "name": "python3"
    },
    "language_info": {
      "codemirror_mode": {
        "name": "ipython",
        "version": 3
      },
      "file_extension": ".py",
      "mimetype": "text/x-python",
      "name": "python",
      "nbconvert_exporter": "python",
      "pygments_lexer": "ipython3",
      "version": "3.7.4"
    },
    "colab": {
      "name": "Sparks_Foundation_task.ipynb",
      "provenance": []
    }
  },
  "cells": [
    {
      "cell_type": "markdown",
      "metadata": {
        "id": "KU42P-nASuqk"
      },
      "source": [
        "## The Sparks Foundation\n",
        "\n",
        "## Name: Abhijeet Khimsuriya\n",
        "\n",
        "## Task 1: Prediction using Supervised ML(Predict the percentage of an student based on the no. of study hours.)"
      ]
    },
    {
      "cell_type": "code",
      "metadata": {
        "id": "rXsu-0ewSuqp"
      },
      "source": [
        "import os\n",
        "import math\n",
        "import pandas as pd \n",
        "import numpy as np  \n",
        "import matplotlib.pyplot as plt  \n",
        "from sklearn import metrics \n",
        "from sklearn.model_selection import train_test_split  \n",
        "from sklearn.linear_model import LinearRegression  \n",
        "%matplotlib inline"
      ],
      "execution_count": 1,
      "outputs": []
    },
    {
      "cell_type": "code",
      "metadata": {
        "colab": {
          "base_uri": "https://localhost:8080/",
          "height": 195
        },
        "id": "HzU2IFDLSuqq",
        "outputId": "c8266f3b-ee5c-454b-c9d0-205c1ea36e42"
      },
      "source": [
        "data=pd.read_csv(\"http://bit.ly/w-data\")\n",
        "data.head()\n"
      ],
      "execution_count": 2,
      "outputs": [
        {
          "output_type": "execute_result",
          "data": {
            "text/html": [
              "<div>\n",
              "<style scoped>\n",
              "    .dataframe tbody tr th:only-of-type {\n",
              "        vertical-align: middle;\n",
              "    }\n",
              "\n",
              "    .dataframe tbody tr th {\n",
              "        vertical-align: top;\n",
              "    }\n",
              "\n",
              "    .dataframe thead th {\n",
              "        text-align: right;\n",
              "    }\n",
              "</style>\n",
              "<table border=\"1\" class=\"dataframe\">\n",
              "  <thead>\n",
              "    <tr style=\"text-align: right;\">\n",
              "      <th></th>\n",
              "      <th>Hours</th>\n",
              "      <th>Scores</th>\n",
              "    </tr>\n",
              "  </thead>\n",
              "  <tbody>\n",
              "    <tr>\n",
              "      <th>0</th>\n",
              "      <td>2.5</td>\n",
              "      <td>21</td>\n",
              "    </tr>\n",
              "    <tr>\n",
              "      <th>1</th>\n",
              "      <td>5.1</td>\n",
              "      <td>47</td>\n",
              "    </tr>\n",
              "    <tr>\n",
              "      <th>2</th>\n",
              "      <td>3.2</td>\n",
              "      <td>27</td>\n",
              "    </tr>\n",
              "    <tr>\n",
              "      <th>3</th>\n",
              "      <td>8.5</td>\n",
              "      <td>75</td>\n",
              "    </tr>\n",
              "    <tr>\n",
              "      <th>4</th>\n",
              "      <td>3.5</td>\n",
              "      <td>30</td>\n",
              "    </tr>\n",
              "  </tbody>\n",
              "</table>\n",
              "</div>"
            ],
            "text/plain": [
              "   Hours  Scores\n",
              "0    2.5      21\n",
              "1    5.1      47\n",
              "2    3.2      27\n",
              "3    8.5      75\n",
              "4    3.5      30"
            ]
          },
          "metadata": {
            "tags": []
          },
          "execution_count": 2
        }
      ]
    },
    {
      "cell_type": "code",
      "metadata": {
        "colab": {
          "base_uri": "https://localhost:8080/",
          "height": 296
        },
        "id": "GbWZ2LCbSuqr",
        "outputId": "a1171e08-47a8-4462-9e0b-cf69baf8be4c"
      },
      "source": [
        "x=data['Hours']\n",
        "y=data['Scores']\n",
        "\n",
        "plt.scatter(x,y)\n",
        "plt.xlabel('Number of Hours of Study')\n",
        "plt.ylabel('Score of Candidate in %')"
      ],
      "execution_count": 3,
      "outputs": [
        {
          "output_type": "execute_result",
          "data": {
            "text/plain": [
              "Text(0, 0.5, 'Score of Candidate in %')"
            ]
          },
          "metadata": {
            "tags": []
          },
          "execution_count": 3
        },
        {
          "output_type": "display_data",
          "data": {
            "image/png": "[encoded data removed]",
            "text/plain": [
              "<Figure size 432x288 with 1 Axes>"
            ]
          },
          "metadata": {
            "tags": [],
            "needs_background": "light"
          }
        }
      ]
    },
    {
      "cell_type": "markdown",
      "metadata": {
        "id": "DbVdqVHCSuqr"
      },
      "source": [
        "CONCLUSION :\n",
        "\n",
        "From the above plot we can see a positive correlation between number of hours a student studies and the percentage score of that student "
      ]
    },
    {
      "cell_type": "markdown",
      "metadata": {
        "id": "Teix-lehSuqr"
      },
      "source": [
        "## Linear Regression Algorithm"
      ]
    },
    {
      "cell_type": "code",
      "metadata": {
        "id": "ExLH4L_HSuqs"
      },
      "source": [
        "x = data.iloc[:, :-1] \n",
        "x=x.values\n",
        "y = data.iloc[:, 1]\n",
        "y=y.values"
      ],
      "execution_count": 4,
      "outputs": []
    },
    {
      "cell_type": "code",
      "metadata": {
        "id": "mLIqGN7bSuqs"
      },
      "source": [
        "\n",
        "X_train, X_test, Y_train, Y_test = train_test_split(x, y, test_size=0.30, random_state=0) "
      ],
      "execution_count": 5,
      "outputs": []
    },
    {
      "cell_type": "code",
      "metadata": {
        "colab": {
          "base_uri": "https://localhost:8080/"
        },
        "id": "ccny7c4jSuqs",
        "outputId": "af7e8638-5b74-45fe-88b2-db148b6f9dda"
      },
      "source": [
        "reg = LinearRegression()  \n",
        "reg.fit(X_train, Y_train) "
      ],
      "execution_count": 6,
      "outputs": [
        {
          "output_type": "execute_result",
          "data": {
            "text/plain": [
              "LinearRegression(copy_X=True, fit_intercept=True, n_jobs=None, normalize=False)"
            ]
          },
          "metadata": {
            "tags": []
          },
          "execution_count": 6
        }
      ]
    },
    {
      "cell_type": "code",
      "metadata": {
        "colab": {
          "base_uri": "https://localhost:8080/",
          "height": 295
        },
        "id": "4vwUy8OtSuqs",
        "outputId": "9ebd2127-2c3d-4cae-ffff-6a0622d9fce9"
      },
      "source": [
        "line = reg.coef_*x+reg.intercept_\n",
        "\n",
        "plt.scatter(x, y,color='orange')\n",
        "plt.plot(x, line,color='red');\n",
        "plt.title('Line of Best Fit Plot')\n",
        "plt.xlabel('Number of Hours of Study')  \n",
        "plt.ylabel('Score of Candidate in %')  \n",
        "plt.legend(['Line of Best Fit','Data Points'])\n",
        "plt.show()"
      ],
      "execution_count": 7,
      "outputs": [
        {
          "output_type": "display_data",
          "data": {
            "image/png": "[encoded data removed]",
            "text/plain": [
              "<Figure size 432x288 with 1 Axes>"
            ]
          },
          "metadata": {
            "tags": [],
            "needs_background": "light"
          }
        }
      ]
    },
    {
      "cell_type": "code",
      "metadata": {
        "colab": {
          "base_uri": "https://localhost:8080/",
          "height": 195
        },
        "id": "QcODJa69Suqt",
        "outputId": "e365f35f-cfb3-48ca-fdb6-c749f84dc4b7"
      },
      "source": [
        "predictions = reg.predict(X_test)\n",
        "dataframe= pd.DataFrame({'Actual': Y_test, 'Predicted': predictions})  \n",
        "dataframe.head() "
      ],
      "execution_count": 8,
      "outputs": [
        {
          "output_type": "execute_result",
          "data": {
            "text/html": [
              "<div>\n",
              "<style scoped>\n",
              "    .dataframe tbody tr th:only-of-type {\n",
              "        vertical-align: middle;\n",
              "    }\n",
              "\n",
              "    .dataframe tbody tr th {\n",
              "        vertical-align: top;\n",
              "    }\n",
              "\n",
              "    .dataframe thead th {\n",
              "        text-align: right;\n",
              "    }\n",
              "</style>\n",
              "<table border=\"1\" class=\"dataframe\">\n",
              "  <thead>\n",
              "    <tr style=\"text-align: right;\">\n",
              "      <th></th>\n",
              "      <th>Actual</th>\n",
              "      <th>Predicted</th>\n",
              "    </tr>\n",
              "  </thead>\n",
              "  <tbody>\n",
              "    <tr>\n",
              "      <th>0</th>\n",
              "      <td>20</td>\n",
              "      <td>17.053665</td>\n",
              "    </tr>\n",
              "    <tr>\n",
              "      <th>1</th>\n",
              "      <td>27</td>\n",
              "      <td>33.694229</td>\n",
              "    </tr>\n",
              "    <tr>\n",
              "      <th>2</th>\n",
              "      <td>69</td>\n",
              "      <td>74.806209</td>\n",
              "    </tr>\n",
              "    <tr>\n",
              "      <th>3</th>\n",
              "      <td>30</td>\n",
              "      <td>26.842232</td>\n",
              "    </tr>\n",
              "    <tr>\n",
              "      <th>4</th>\n",
              "      <td>62</td>\n",
              "      <td>60.123359</td>\n",
              "    </tr>\n",
              "  </tbody>\n",
              "</table>\n",
              "</div>"
            ],
            "text/plain": [
              "   Actual  Predicted\n",
              "0      20  17.053665\n",
              "1      27  33.694229\n",
              "2      69  74.806209\n",
              "3      30  26.842232\n",
              "4      62  60.123359"
            ]
          },
          "metadata": {
            "tags": []
          },
          "execution_count": 8
        }
      ]
    },
    {
      "cell_type": "code",
      "metadata": {
        "colab": {
          "base_uri": "https://localhost:8080/"
        },
        "id": "A9t5Sjq_Suqt",
        "outputId": "890ddf99-cd8c-4857-9a14-4e081bebb98f"
      },
      "source": [
        "result0= reg.predict([[6]])\n",
        "result1 = reg.predict([[8]])\n",
        "print(\"No of Hours = 6\")\n",
        "print(\"Predicted Score = {}\".format(result0[0]))\n",
        "print('\\n')\n",
        "print(\"No of Hours = 8\")\n",
        "print(\"Predicted Score = {}\".format(result1[0]))"
      ],
      "execution_count": 9,
      "outputs": [
        {
          "output_type": "stream",
          "text": [
            "No of Hours = 6\n",
            "Predicted Score = 61.10221550283616\n",
            "\n",
            "\n",
            "No of Hours = 8\n",
            "Predicted Score = 80.67934887633425\n"
          ],
          "name": "stdout"
        }
      ]
    },
    {
      "cell_type": "code",
      "metadata": {
        "colab": {
          "base_uri": "https://localhost:8080/"
        },
        "id": "WMUow7z-Suqt",
        "outputId": "49a243c8-c7cb-4c56-b7d8-fddacad7f5e4"
      },
      "source": [
        "print('Mean Squared Error:',metrics.mean_squared_error(Y_test,predictions))\n",
        "print('Mean Absolute Error:', metrics.mean_absolute_error(Y_test, predictions)) "
      ],
      "execution_count": 10,
      "outputs": [
        {
          "output_type": "stream",
          "text": [
            "Mean Squared Error: 22.965097212700428\n",
            "Mean Absolute Error: 4.419727808027651\n"
          ],
          "name": "stdout"
        }
      ]
    },
    {
      "cell_type": "markdown",
      "metadata": {
        "id": "1ruwPqkISuqu"
      },
      "source": [
        "## Conclusion"
      ]
    },
    {
      "cell_type": "markdown",
      "metadata": {
        "id": "3k7l4tHaSuqu"
      },
      "source": [
        "From the above Regression Analysis on the given data , we can say that if a student studies 6 Hours his percentage can range from 61-65 , whereas if a student studies 8 hours, percentage ranges from 80-84. "
      ]
    },
    {
      "cell_type": "code",
      "metadata": {
        "id": "_odb07qcSuqu"
      },
      "source": [
        ""
      ],
      "execution_count": 10,
      "outputs": []
    }
  ]
}